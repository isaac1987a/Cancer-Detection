{
 "cells": [
  {
   "cell_type": "code",
   "execution_count": 26,
   "id": "ebe90084-1cfc-424b-938a-7935df608877",
   "metadata": {},
   "outputs": [],
   "source": [
    "import numpy as np\n",
    "import pandas as pd\n",
    "from PIL import Image\n",
    "import random\n",
    "import keras\n",
    "import h5py\n",
    "import matplotlib.pyplot as plt"
   ]
  },
  {
   "cell_type": "code",
   "execution_count": 3,
   "id": "9066253f-55f3-4bb2-88cd-b4f2dc00963f",
   "metadata": {},
   "outputs": [
    {
     "data": {
      "text/html": [
       "<div>\n",
       "<style scoped>\n",
       "    .dataframe tbody tr th:only-of-type {\n",
       "        vertical-align: middle;\n",
       "    }\n",
       "\n",
       "    .dataframe tbody tr th {\n",
       "        vertical-align: top;\n",
       "    }\n",
       "\n",
       "    .dataframe thead th {\n",
       "        text-align: right;\n",
       "    }\n",
       "</style>\n",
       "<table border=\"1\" class=\"dataframe\">\n",
       "  <thead>\n",
       "    <tr style=\"text-align: right;\">\n",
       "      <th></th>\n",
       "      <th>id</th>\n",
       "      <th>label</th>\n",
       "    </tr>\n",
       "  </thead>\n",
       "  <tbody>\n",
       "    <tr>\n",
       "      <th>0</th>\n",
       "      <td>f38a6374c348f90b587e046aac6079959adf3835</td>\n",
       "      <td>0</td>\n",
       "    </tr>\n",
       "    <tr>\n",
       "      <th>1</th>\n",
       "      <td>c18f2d887b7ae4f6742ee445113fa1aef383ed77</td>\n",
       "      <td>1</td>\n",
       "    </tr>\n",
       "    <tr>\n",
       "      <th>2</th>\n",
       "      <td>755db6279dae599ebb4d39a9123cce439965282d</td>\n",
       "      <td>0</td>\n",
       "    </tr>\n",
       "    <tr>\n",
       "      <th>3</th>\n",
       "      <td>bc3f0c64fb968ff4a8bd33af6971ecae77c75e08</td>\n",
       "      <td>0</td>\n",
       "    </tr>\n",
       "    <tr>\n",
       "      <th>4</th>\n",
       "      <td>068aba587a4950175d04c680d38943fd488d6a9d</td>\n",
       "      <td>0</td>\n",
       "    </tr>\n",
       "  </tbody>\n",
       "</table>\n",
       "</div>"
      ],
      "text/plain": [
       "                                         id  label\n",
       "0  f38a6374c348f90b587e046aac6079959adf3835      0\n",
       "1  c18f2d887b7ae4f6742ee445113fa1aef383ed77      1\n",
       "2  755db6279dae599ebb4d39a9123cce439965282d      0\n",
       "3  bc3f0c64fb968ff4a8bd33af6971ecae77c75e08      0\n",
       "4  068aba587a4950175d04c680d38943fd488d6a9d      0"
      ]
     },
     "execution_count": 3,
     "metadata": {},
     "output_type": "execute_result"
    }
   ],
   "source": [
    "# Import the labels\n",
    "input_directory = \"kaggle/input/histopathologic-cancer-detection/\"\n",
    "working_directory = \"kaggle/working/\"\n",
    "tmp_directory = \"kaggle/temp\"\n",
    "directory = input_directory + \"train_labels.csv\"\n",
    "test_data_list = pd.read_csv(directory)\n",
    "test_data_list.head()"
   ]
  },
  {
   "cell_type": "markdown",
   "id": "c9ae8acb-9d8f-447a-9985-fac173d0c1d8",
   "metadata": {},
   "source": []
  },
  {
   "cell_type": "code",
   "execution_count": null,
   "id": "8e7cf0fb-2b3b-403e-95c2-f4d397f49b0b",
   "metadata": {},
   "outputs": [],
   "source": [
    "#print random images with lablels\n",
    "samples = test_data_list.iloc[random.sample(range(0,test_data_list.shape[0]), 10)]\n",
    "#print(samples)\n",
    "for sample in samples.iterrows():\n",
    "    #print(sample[1])\n",
    "    path = input_directory + \"train/\" + str(sample[1][\"id\"]) + \".tif\"\n",
    "    if sample[1][\"label\"] == 0:\n",
    "        print(\"Cancer Free\")\n",
    "    else:\n",
    "        print(\"Cancerous\")\n",
    "    im = Image.open(path)\n",
    "    print(\"Channels: \" + str(im.getbands()))\n",
    "    display(im)\n"
   ]
  },
  {
   "cell_type": "markdown",
   "id": "4b2fd1ac-e029-44ee-b0d8-3ab424ed0a3d",
   "metadata": {},
   "source": [
    "- Cancerous vs Cancer Free numbers in train set\n",
    "- Size of set\n",
    "- Find more later"
   ]
  },
  {
   "cell_type": "code",
   "execution_count": null,
   "id": "f60ed70d-ac67-49b8-af92-20a0051ffeee",
   "metadata": {},
   "outputs": [],
   "source": [
    "directory = input_directory + \"train/\"\n",
    "print(directory)\n"
   ]
  },
  {
   "cell_type": "code",
   "execution_count": 3,
   "id": "1a744c6e-9383-4709-a09b-daac92915b9f",
   "metadata": {},
   "outputs": [
    {
     "ename": "FileNotFoundError",
     "evalue": "[Errno 2] No such file or directory: 'kaggle/input/histopathologic-cancer-detection/train/f38a6374c348f90b587e046aac6079959adf3835.tif'",
     "output_type": "error",
     "traceback": [
      "\u001b[0;31m---------------------------------------------------------------------------\u001b[0m",
      "\u001b[0;31mFileNotFoundError\u001b[0m                         Traceback (most recent call last)",
      "Cell \u001b[0;32mIn [3], line 6\u001b[0m\n\u001b[1;32m      3\u001b[0m     im \u001b[38;5;241m=\u001b[39m keras\u001b[38;5;241m.\u001b[39mutils\u001b[38;5;241m.\u001b[39mload_img(path, color_mode\u001b[38;5;241m=\u001b[39m\u001b[38;5;124m'\u001b[39m\u001b[38;5;124mrgb\u001b[39m\u001b[38;5;124m'\u001b[39m, target_size\u001b[38;5;241m=\u001b[39m(\u001b[38;5;241m32\u001b[39m,\u001b[38;5;241m32\u001b[39m))\n\u001b[1;32m      4\u001b[0m     \u001b[38;5;28;01mreturn\u001b[39;00m keras\u001b[38;5;241m.\u001b[39mutils\u001b[38;5;241m.\u001b[39mimg_to_array(im)\u001b[38;5;241m/\u001b[39m\u001b[38;5;241m255\u001b[39m\n\u001b[0;32m----> 6\u001b[0m test_data_list[\u001b[38;5;124m'\u001b[39m\u001b[38;5;124mimage_data\u001b[39m\u001b[38;5;124m'\u001b[39m] \u001b[38;5;241m=\u001b[39m \u001b[43mtest_data_list\u001b[49m\u001b[43m[\u001b[49m\u001b[38;5;124;43m'\u001b[39;49m\u001b[38;5;124;43mid\u001b[39;49m\u001b[38;5;124;43m'\u001b[39;49m\u001b[43m]\u001b[49m\u001b[38;5;241;43m.\u001b[39;49m\u001b[43mapply\u001b[49m\u001b[43m(\u001b[49m\u001b[43mload_and_prodess_image\u001b[49m\u001b[43m)\u001b[49m\n",
      "File \u001b[0;32m/usr/local/lib/python3.9/dist-packages/pandas/core/series.py:4774\u001b[0m, in \u001b[0;36mSeries.apply\u001b[0;34m(self, func, convert_dtype, args, **kwargs)\u001b[0m\n\u001b[1;32m   4664\u001b[0m \u001b[38;5;28;01mdef\u001b[39;00m \u001b[38;5;21mapply\u001b[39m(\n\u001b[1;32m   4665\u001b[0m     \u001b[38;5;28mself\u001b[39m,\n\u001b[1;32m   4666\u001b[0m     func: AggFuncType,\n\u001b[0;32m   (...)\u001b[0m\n\u001b[1;32m   4669\u001b[0m     \u001b[38;5;241m*\u001b[39m\u001b[38;5;241m*\u001b[39mkwargs,\n\u001b[1;32m   4670\u001b[0m ) \u001b[38;5;241m-\u001b[39m\u001b[38;5;241m>\u001b[39m DataFrame \u001b[38;5;241m|\u001b[39m Series:\n\u001b[1;32m   4671\u001b[0m \u001b[38;5;250m    \u001b[39m\u001b[38;5;124;03m\"\"\"\u001b[39;00m\n\u001b[1;32m   4672\u001b[0m \u001b[38;5;124;03m    Invoke function on values of Series.\u001b[39;00m\n\u001b[1;32m   4673\u001b[0m \n\u001b[0;32m   (...)\u001b[0m\n\u001b[1;32m   4772\u001b[0m \u001b[38;5;124;03m    dtype: float64\u001b[39;00m\n\u001b[1;32m   4773\u001b[0m \u001b[38;5;124;03m    \"\"\"\u001b[39;00m\n\u001b[0;32m-> 4774\u001b[0m     \u001b[38;5;28;01mreturn\u001b[39;00m \u001b[43mSeriesApply\u001b[49m\u001b[43m(\u001b[49m\u001b[38;5;28;43mself\u001b[39;49m\u001b[43m,\u001b[49m\u001b[43m \u001b[49m\u001b[43mfunc\u001b[49m\u001b[43m,\u001b[49m\u001b[43m \u001b[49m\u001b[43mconvert_dtype\u001b[49m\u001b[43m,\u001b[49m\u001b[43m \u001b[49m\u001b[43margs\u001b[49m\u001b[43m,\u001b[49m\u001b[43m \u001b[49m\u001b[43mkwargs\u001b[49m\u001b[43m)\u001b[49m\u001b[38;5;241;43m.\u001b[39;49m\u001b[43mapply\u001b[49m\u001b[43m(\u001b[49m\u001b[43m)\u001b[49m\n",
      "File \u001b[0;32m/usr/local/lib/python3.9/dist-packages/pandas/core/apply.py:1100\u001b[0m, in \u001b[0;36mSeriesApply.apply\u001b[0;34m(self)\u001b[0m\n\u001b[1;32m   1097\u001b[0m     \u001b[38;5;28;01mreturn\u001b[39;00m \u001b[38;5;28mself\u001b[39m\u001b[38;5;241m.\u001b[39mapply_str()\n\u001b[1;32m   1099\u001b[0m \u001b[38;5;66;03m# self.f is Callable\u001b[39;00m\n\u001b[0;32m-> 1100\u001b[0m \u001b[38;5;28;01mreturn\u001b[39;00m \u001b[38;5;28;43mself\u001b[39;49m\u001b[38;5;241;43m.\u001b[39;49m\u001b[43mapply_standard\u001b[49m\u001b[43m(\u001b[49m\u001b[43m)\u001b[49m\n",
      "File \u001b[0;32m/usr/local/lib/python3.9/dist-packages/pandas/core/apply.py:1151\u001b[0m, in \u001b[0;36mSeriesApply.apply_standard\u001b[0;34m(self)\u001b[0m\n\u001b[1;32m   1149\u001b[0m     \u001b[38;5;28;01melse\u001b[39;00m:\n\u001b[1;32m   1150\u001b[0m         values \u001b[38;5;241m=\u001b[39m obj\u001b[38;5;241m.\u001b[39mastype(\u001b[38;5;28mobject\u001b[39m)\u001b[38;5;241m.\u001b[39m_values\n\u001b[0;32m-> 1151\u001b[0m         mapped \u001b[38;5;241m=\u001b[39m \u001b[43mlib\u001b[49m\u001b[38;5;241;43m.\u001b[39;49m\u001b[43mmap_infer\u001b[49m\u001b[43m(\u001b[49m\n\u001b[1;32m   1152\u001b[0m \u001b[43m            \u001b[49m\u001b[43mvalues\u001b[49m\u001b[43m,\u001b[49m\n\u001b[1;32m   1153\u001b[0m \u001b[43m            \u001b[49m\u001b[43mf\u001b[49m\u001b[43m,\u001b[49m\n\u001b[1;32m   1154\u001b[0m \u001b[43m            \u001b[49m\u001b[43mconvert\u001b[49m\u001b[38;5;241;43m=\u001b[39;49m\u001b[38;5;28;43mself\u001b[39;49m\u001b[38;5;241;43m.\u001b[39;49m\u001b[43mconvert_dtype\u001b[49m\u001b[43m,\u001b[49m\n\u001b[1;32m   1155\u001b[0m \u001b[43m        \u001b[49m\u001b[43m)\u001b[49m\n\u001b[1;32m   1157\u001b[0m \u001b[38;5;28;01mif\u001b[39;00m \u001b[38;5;28mlen\u001b[39m(mapped) \u001b[38;5;129;01mand\u001b[39;00m \u001b[38;5;28misinstance\u001b[39m(mapped[\u001b[38;5;241m0\u001b[39m], ABCSeries):\n\u001b[1;32m   1158\u001b[0m     \u001b[38;5;66;03m# GH#43986 Need to do list(mapped) in order to get treated as nested\u001b[39;00m\n\u001b[1;32m   1159\u001b[0m     \u001b[38;5;66;03m#  See also GH#25959 regarding EA support\u001b[39;00m\n\u001b[1;32m   1160\u001b[0m     \u001b[38;5;28;01mreturn\u001b[39;00m obj\u001b[38;5;241m.\u001b[39m_constructor_expanddim(\u001b[38;5;28mlist\u001b[39m(mapped), index\u001b[38;5;241m=\u001b[39mobj\u001b[38;5;241m.\u001b[39mindex)\n",
      "File \u001b[0;32m/usr/local/lib/python3.9/dist-packages/pandas/_libs/lib.pyx:2919\u001b[0m, in \u001b[0;36mpandas._libs.lib.map_infer\u001b[0;34m()\u001b[0m\n",
      "Cell \u001b[0;32mIn [3], line 3\u001b[0m, in \u001b[0;36mload_and_prodess_image\u001b[0;34m(filename)\u001b[0m\n\u001b[1;32m      1\u001b[0m \u001b[38;5;28;01mdef\u001b[39;00m \u001b[38;5;21mload_and_prodess_image\u001b[39m(filename):\n\u001b[1;32m      2\u001b[0m     path\u001b[38;5;241m=\u001b[39minput_directory \u001b[38;5;241m+\u001b[39m \u001b[38;5;124m\"\u001b[39m\u001b[38;5;124mtrain/\u001b[39m\u001b[38;5;124m\"\u001b[39m \u001b[38;5;241m+\u001b[39m filename \u001b[38;5;241m+\u001b[39m \u001b[38;5;124m\"\u001b[39m\u001b[38;5;124m.tif\u001b[39m\u001b[38;5;124m\"\u001b[39m\n\u001b[0;32m----> 3\u001b[0m     im \u001b[38;5;241m=\u001b[39m \u001b[43mkeras\u001b[49m\u001b[38;5;241;43m.\u001b[39;49m\u001b[43mutils\u001b[49m\u001b[38;5;241;43m.\u001b[39;49m\u001b[43mload_img\u001b[49m\u001b[43m(\u001b[49m\u001b[43mpath\u001b[49m\u001b[43m,\u001b[49m\u001b[43m \u001b[49m\u001b[43mcolor_mode\u001b[49m\u001b[38;5;241;43m=\u001b[39;49m\u001b[38;5;124;43m'\u001b[39;49m\u001b[38;5;124;43mrgb\u001b[39;49m\u001b[38;5;124;43m'\u001b[39;49m\u001b[43m,\u001b[49m\u001b[43m \u001b[49m\u001b[43mtarget_size\u001b[49m\u001b[38;5;241;43m=\u001b[39;49m\u001b[43m(\u001b[49m\u001b[38;5;241;43m32\u001b[39;49m\u001b[43m,\u001b[49m\u001b[38;5;241;43m32\u001b[39;49m\u001b[43m)\u001b[49m\u001b[43m)\u001b[49m\n\u001b[1;32m      4\u001b[0m     \u001b[38;5;28;01mreturn\u001b[39;00m keras\u001b[38;5;241m.\u001b[39mutils\u001b[38;5;241m.\u001b[39mimg_to_array(im)\u001b[38;5;241m/\u001b[39m\u001b[38;5;241m255\u001b[39m\n",
      "File \u001b[0;32m/usr/local/lib/python3.9/dist-packages/keras/utils/image_utils.py:393\u001b[0m, in \u001b[0;36mload_img\u001b[0;34m(path, grayscale, color_mode, target_size, interpolation, keep_aspect_ratio)\u001b[0m\n\u001b[1;32m    391\u001b[0m   \u001b[38;5;28;01mif\u001b[39;00m \u001b[38;5;28misinstance\u001b[39m(path, pathlib\u001b[38;5;241m.\u001b[39mPath):\n\u001b[1;32m    392\u001b[0m     path \u001b[38;5;241m=\u001b[39m \u001b[38;5;28mstr\u001b[39m(path\u001b[38;5;241m.\u001b[39mresolve())\n\u001b[0;32m--> 393\u001b[0m   \u001b[38;5;28;01mwith\u001b[39;00m \u001b[38;5;28;43mopen\u001b[39;49m\u001b[43m(\u001b[49m\u001b[43mpath\u001b[49m\u001b[43m,\u001b[49m\u001b[43m \u001b[49m\u001b[38;5;124;43m'\u001b[39;49m\u001b[38;5;124;43mrb\u001b[39;49m\u001b[38;5;124;43m'\u001b[39;49m\u001b[43m)\u001b[49m \u001b[38;5;28;01mas\u001b[39;00m f:\n\u001b[1;32m    394\u001b[0m     img \u001b[38;5;241m=\u001b[39m pil_image\u001b[38;5;241m.\u001b[39mopen(io\u001b[38;5;241m.\u001b[39mBytesIO(f\u001b[38;5;241m.\u001b[39mread()))\n\u001b[1;32m    395\u001b[0m \u001b[38;5;28;01melse\u001b[39;00m:\n",
      "\u001b[0;31mFileNotFoundError\u001b[0m: [Errno 2] No such file or directory: 'kaggle/input/histopathologic-cancer-detection/train/f38a6374c348f90b587e046aac6079959adf3835.tif'"
     ]
    }
   ],
   "source": [
    "def load_and_prodess_image(filename):\n",
    "    path=input_directory + \"train/\" + filename + \".tif\"\n",
    "    im = keras.utils.load_img(path, color_mode='rgb', target_size=(32,32))\n",
    "    return keras.utils.img_to_array(im)/255\n",
    "\n",
    "test_data_list['image_data'] = test_data_list['id'].apply(load_and_prodess_image)\n"
   ]
  },
  {
   "cell_type": "code",
   "execution_count": 4,
   "id": "0494fb98-cbec-426a-beb0-8945f523747f",
   "metadata": {},
   "outputs": [
    {
     "ename": "KeyError",
     "evalue": "'image_data'",
     "output_type": "error",
     "traceback": [
      "\u001b[0;31m---------------------------------------------------------------------------\u001b[0m",
      "\u001b[0;31mKeyError\u001b[0m                                  Traceback (most recent call last)",
      "File \u001b[0;32m/usr/local/lib/python3.9/dist-packages/pandas/core/indexes/base.py:3800\u001b[0m, in \u001b[0;36mIndex.get_loc\u001b[0;34m(self, key, method, tolerance)\u001b[0m\n\u001b[1;32m   3799\u001b[0m \u001b[38;5;28;01mtry\u001b[39;00m:\n\u001b[0;32m-> 3800\u001b[0m     \u001b[38;5;28;01mreturn\u001b[39;00m \u001b[38;5;28;43mself\u001b[39;49m\u001b[38;5;241;43m.\u001b[39;49m\u001b[43m_engine\u001b[49m\u001b[38;5;241;43m.\u001b[39;49m\u001b[43mget_loc\u001b[49m\u001b[43m(\u001b[49m\u001b[43mcasted_key\u001b[49m\u001b[43m)\u001b[49m\n\u001b[1;32m   3801\u001b[0m \u001b[38;5;28;01mexcept\u001b[39;00m \u001b[38;5;167;01mKeyError\u001b[39;00m \u001b[38;5;28;01mas\u001b[39;00m err:\n",
      "File \u001b[0;32m/usr/local/lib/python3.9/dist-packages/pandas/_libs/index.pyx:138\u001b[0m, in \u001b[0;36mpandas._libs.index.IndexEngine.get_loc\u001b[0;34m()\u001b[0m\n",
      "File \u001b[0;32m/usr/local/lib/python3.9/dist-packages/pandas/_libs/index.pyx:165\u001b[0m, in \u001b[0;36mpandas._libs.index.IndexEngine.get_loc\u001b[0;34m()\u001b[0m\n",
      "File \u001b[0;32mpandas/_libs/hashtable_class_helper.pxi:5745\u001b[0m, in \u001b[0;36mpandas._libs.hashtable.PyObjectHashTable.get_item\u001b[0;34m()\u001b[0m\n",
      "File \u001b[0;32mpandas/_libs/hashtable_class_helper.pxi:5753\u001b[0m, in \u001b[0;36mpandas._libs.hashtable.PyObjectHashTable.get_item\u001b[0;34m()\u001b[0m\n",
      "\u001b[0;31mKeyError\u001b[0m: 'image_data'",
      "\nThe above exception was the direct cause of the following exception:\n",
      "\u001b[0;31mKeyError\u001b[0m                                  Traceback (most recent call last)",
      "Cell \u001b[0;32mIn [4], line 1\u001b[0m\n\u001b[0;32m----> 1\u001b[0m X \u001b[38;5;241m=\u001b[39m np\u001b[38;5;241m.\u001b[39mstack(\u001b[43mtest_data_list\u001b[49m\u001b[43m[\u001b[49m\u001b[38;5;124;43m'\u001b[39;49m\u001b[38;5;124;43mimage_data\u001b[39;49m\u001b[38;5;124;43m'\u001b[39;49m\u001b[43m]\u001b[49m\u001b[38;5;241m.\u001b[39mvalues)\n\u001b[1;32m      2\u001b[0m y \u001b[38;5;241m=\u001b[39m test_data_list[\u001b[38;5;124m'\u001b[39m\u001b[38;5;124mlabel\u001b[39m\u001b[38;5;124m'\u001b[39m]\u001b[38;5;241m.\u001b[39mvalues\n\u001b[1;32m      3\u001b[0m path \u001b[38;5;241m=\u001b[39m working_directory \u001b[38;5;241m+\u001b[39m \u001b[38;5;124m'\u001b[39m\u001b[38;5;124mimage_data.h5\u001b[39m\u001b[38;5;124m'\u001b[39m\n",
      "File \u001b[0;32m/usr/local/lib/python3.9/dist-packages/pandas/core/frame.py:3805\u001b[0m, in \u001b[0;36mDataFrame.__getitem__\u001b[0;34m(self, key)\u001b[0m\n\u001b[1;32m   3803\u001b[0m \u001b[38;5;28;01mif\u001b[39;00m \u001b[38;5;28mself\u001b[39m\u001b[38;5;241m.\u001b[39mcolumns\u001b[38;5;241m.\u001b[39mnlevels \u001b[38;5;241m>\u001b[39m \u001b[38;5;241m1\u001b[39m:\n\u001b[1;32m   3804\u001b[0m     \u001b[38;5;28;01mreturn\u001b[39;00m \u001b[38;5;28mself\u001b[39m\u001b[38;5;241m.\u001b[39m_getitem_multilevel(key)\n\u001b[0;32m-> 3805\u001b[0m indexer \u001b[38;5;241m=\u001b[39m \u001b[38;5;28;43mself\u001b[39;49m\u001b[38;5;241;43m.\u001b[39;49m\u001b[43mcolumns\u001b[49m\u001b[38;5;241;43m.\u001b[39;49m\u001b[43mget_loc\u001b[49m\u001b[43m(\u001b[49m\u001b[43mkey\u001b[49m\u001b[43m)\u001b[49m\n\u001b[1;32m   3806\u001b[0m \u001b[38;5;28;01mif\u001b[39;00m is_integer(indexer):\n\u001b[1;32m   3807\u001b[0m     indexer \u001b[38;5;241m=\u001b[39m [indexer]\n",
      "File \u001b[0;32m/usr/local/lib/python3.9/dist-packages/pandas/core/indexes/base.py:3802\u001b[0m, in \u001b[0;36mIndex.get_loc\u001b[0;34m(self, key, method, tolerance)\u001b[0m\n\u001b[1;32m   3800\u001b[0m     \u001b[38;5;28;01mreturn\u001b[39;00m \u001b[38;5;28mself\u001b[39m\u001b[38;5;241m.\u001b[39m_engine\u001b[38;5;241m.\u001b[39mget_loc(casted_key)\n\u001b[1;32m   3801\u001b[0m \u001b[38;5;28;01mexcept\u001b[39;00m \u001b[38;5;167;01mKeyError\u001b[39;00m \u001b[38;5;28;01mas\u001b[39;00m err:\n\u001b[0;32m-> 3802\u001b[0m     \u001b[38;5;28;01mraise\u001b[39;00m \u001b[38;5;167;01mKeyError\u001b[39;00m(key) \u001b[38;5;28;01mfrom\u001b[39;00m \u001b[38;5;21;01merr\u001b[39;00m\n\u001b[1;32m   3803\u001b[0m \u001b[38;5;28;01mexcept\u001b[39;00m \u001b[38;5;167;01mTypeError\u001b[39;00m:\n\u001b[1;32m   3804\u001b[0m     \u001b[38;5;66;03m# If we have a listlike key, _check_indexing_error will raise\u001b[39;00m\n\u001b[1;32m   3805\u001b[0m     \u001b[38;5;66;03m#  InvalidIndexError. Otherwise we fall through and re-raise\u001b[39;00m\n\u001b[1;32m   3806\u001b[0m     \u001b[38;5;66;03m#  the TypeError.\u001b[39;00m\n\u001b[1;32m   3807\u001b[0m     \u001b[38;5;28mself\u001b[39m\u001b[38;5;241m.\u001b[39m_check_indexing_error(key)\n",
      "\u001b[0;31mKeyError\u001b[0m: 'image_data'"
     ]
    }
   ],
   "source": [
    "X = np.stack(test_data_list['image_data'].values)\n",
    "y = test_data_list['label'].values\n",
    "path = working_directory + 'image_data.h5'\n",
    "hdf5_file = path\n",
    "\n",
    "with h5py.File(hdf5_file, 'w') as f:\n",
    "    f.create_dataset('images', data=X)\n",
    "    f.create_dataset('labels', data=y)"
   ]
  },
  {
   "cell_type": "code",
   "execution_count": null,
   "id": "e9a8f07f-9fdf-41f7-acf2-590e632a62c5",
   "metadata": {},
   "outputs": [],
   "source": []
  },
  {
   "cell_type": "code",
   "execution_count": 4,
   "id": "c1625c45-4350-4b3b-ad9f-e9b609fb18c1",
   "metadata": {},
   "outputs": [],
   "source": [
    "path = working_directory + 'image_data.h5'\n",
    "hdf5_file = path\n",
    "with h5py.File(hdf5_file, 'r') as f:\n",
    "    # Load the datasets back into memory\n",
    "    X = f['images'][:]\n",
    "    y = f['labels'][:]"
   ]
  },
  {
   "cell_type": "code",
   "execution_count": 10,
   "id": "9283eae2-2a51-4255-ac5b-52b7e03cef46",
   "metadata": {},
   "outputs": [],
   "source": [
    "# Developed with help from https://keras.io/api/models/model/\n",
    "inputs = keras.Input(shape=(32,32,3))\n",
    "def convolution_block(input, filters, dropout_value):\n",
    "    filters = filters\n",
    "    kernel_size=(3,3)\n",
    "    conv1 = keras.layers.Conv2D(\n",
    "        filters,\n",
    "        kernel_size,\n",
    "        strides=(1, 1),\n",
    "        padding=\"valid\",\n",
    "        data_format=None,\n",
    "        dilation_rate=(1, 1),\n",
    "        groups=1,\n",
    "        activation=\"sigmoid\",\n",
    "        use_bias=True,\n",
    "        kernel_initializer=\"glorot_uniform\",\n",
    "        bias_initializer=\"zeros\",\n",
    "        kernel_regularizer=None,\n",
    "        bias_regularizer=None,\n",
    "        activity_regularizer=None,\n",
    "        kernel_constraint=None,\n",
    "        bias_constraint=None,\n",
    "    ) (inputs)\n",
    "    conv2 = conv1 = keras.layers.Conv2D(\n",
    "        filters,\n",
    "        kernel_size,\n",
    "        strides=(1, 1),\n",
    "        padding=\"valid\",\n",
    "        data_format=None,\n",
    "        dilation_rate=(1, 1),\n",
    "        groups=1,\n",
    "        activation=\"sigmoid\",\n",
    "        use_bias=True,\n",
    "        kernel_initializer=\"glorot_uniform\",\n",
    "        bias_initializer=\"zeros\",\n",
    "        kernel_regularizer=None,\n",
    "        bias_regularizer=None,\n",
    "        activity_regularizer=None,\n",
    "        kernel_constraint=None,\n",
    "        bias_constraint=None,\n",
    "    ) (conv1)\n",
    "    pool = keras.layers.MaxPooling2D(\n",
    "        pool_size=(2, 2), strides=None, padding=\"valid\", data_format=None, name=None\n",
    "    )(conv2)\n",
    "    dropout = keras.layers.Dropout(dropout_value)(pool)\n",
    "    return dropout\n",
    "    \n",
    "def activation_block(input, layer_density, dropout): \n",
    "    dense = keras.layers.Dense(layer_density, activation='relu') (input)\n",
    "    dropout = keras.layers.Dropout(dropout)(dense)\n",
    "    return dropout\n",
    "\n",
    "convolution = inputs\n",
    "for i in range(0,3):\n",
    "    convolution = convolution_block(convolution, 32, .25)\n",
    "\n",
    "flatten= keras.layers.Flatten()(convolution)\n",
    "\n",
    "activation = flatten\n",
    "for i in range(0,3):\n",
    "    activation = activation_block(activation,1024,.25)\n",
    "\n"
   ]
  },
  {
   "cell_type": "code",
   "execution_count": 54,
   "id": "a510686f-5e92-4034-89b3-c772cedf95bb",
   "metadata": {},
   "outputs": [],
   "source": [
    "\n",
    "\n",
    "def run_model(input, learning_rate):\n",
    "    outputs = keras.layers.Dense(1, activation=\"sigmoid\")(input)\n",
    "    full_model = keras.Model(inputs, outputs)\n",
    "    optimizer = keras.optimizers.Adam(learning_rate=learning_rate)\n",
    "    full_model.compile(optimizer=optimizer, loss='binary_crossentropy', metrics=[keras.metrics.BinaryAccuracy()])\n",
    "    history = full_model.fit(\n",
    "        x=X,\n",
    "        y=y,\n",
    "        batch_size=64,\n",
    "        epochs=10,\n",
    "        verbose=2,\n",
    "        callbacks=None,\n",
    "        validation_split=0.2,\n",
    "        validation_data=None,\n",
    "        shuffle=True,\n",
    "        class_weight=None,\n",
    "        sample_weight=None,\n",
    "        initial_epoch=0,\n",
    "        steps_per_epoch=None,\n",
    "        validation_steps=None,\n",
    "    validation_batch_size=None,\n",
    "    validation_freq=1,\n",
    "    )\n",
    "    return full_model, history\n",
    "    \n"
   ]
  },
  {
   "cell_type": "code",
   "execution_count": 55,
   "id": "d4a113b7-3de3-438b-a4a9-5eea8c67963b",
   "metadata": {},
   "outputs": [],
   "source": [
    "# Stolen Shamelessly from https://github.com/keras-team/keras/issues/12625 \n",
    "# Clears up GPU out of memory\n",
    "from tensorflow.keras import backend as K\n",
    "\n",
    "# Reset Keras Session\n",
    "def reset_keras():\n",
    "    K.clear_session()\n",
    "\n",
    "def plot_error(train_accuracy, val_accuracy, text):\n",
    "    epochs = range(1,len(train_accuracy)+1)\n",
    "    plt.figure(figsize=(10, 6))\n",
    "    plt.plot(epochs, train_accuracy, label='Training Accuracy', marker='o', linestyle='-', color='blue')\n",
    "    plt.plot(epochs, val_accuracy, label='Validation Accuracy', marker='o', linestyle='-', color='red')\n",
    "    title_string = 'Training and Validation Loss' + text\n",
    "    plt.title(title_string)\n",
    "    plt.xlabel('Epoch')\n",
    "    plt.ylabel('Loss')\n",
    "    plt.legend()\n",
    "    plt.grid(True)\n",
    "    plt.show()"
   ]
  },
  {
   "cell_type": "code",
   "execution_count": 56,
   "id": "74289b5b-d888-42e8-9437-1c46754fc78d",
   "metadata": {},
   "outputs": [
    {
     "name": "stdout",
     "output_type": "stream",
     "text": [
      "Epoch 1/10\n",
      "2751/2751 - 23s - loss: 0.2668 - binary_accuracy: 0.8907 - val_loss: 0.3863 - val_binary_accuracy: 0.8325 - 23s/epoch - 8ms/step\n",
      "Epoch 2/10\n",
      "2751/2751 - 21s - loss: 0.2609 - binary_accuracy: 0.8924 - val_loss: 0.3799 - val_binary_accuracy: 0.8404 - 21s/epoch - 8ms/step\n",
      "Epoch 3/10\n",
      "2751/2751 - 21s - loss: 0.2531 - binary_accuracy: 0.8954 - val_loss: 0.4057 - val_binary_accuracy: 0.8364 - 21s/epoch - 8ms/step\n",
      "Epoch 4/10\n",
      "2751/2751 - 21s - loss: 0.2614 - binary_accuracy: 0.8924 - val_loss: 0.4278 - val_binary_accuracy: 0.8248 - 21s/epoch - 8ms/step\n",
      "Epoch 5/10\n",
      "2751/2751 - 21s - loss: 0.2499 - binary_accuracy: 0.8974 - val_loss: 0.4446 - val_binary_accuracy: 0.8341 - 21s/epoch - 8ms/step\n",
      "Epoch 6/10\n",
      "2751/2751 - 21s - loss: 0.2475 - binary_accuracy: 0.8982 - val_loss: 0.4251 - val_binary_accuracy: 0.8448 - 21s/epoch - 8ms/step\n",
      "Epoch 7/10\n",
      "2751/2751 - 21s - loss: 0.2502 - binary_accuracy: 0.8977 - val_loss: 0.4015 - val_binary_accuracy: 0.8409 - 21s/epoch - 8ms/step\n",
      "Epoch 8/10\n",
      "2751/2751 - 21s - loss: 0.2518 - binary_accuracy: 0.8970 - val_loss: 0.3998 - val_binary_accuracy: 0.8338 - 21s/epoch - 8ms/step\n",
      "Epoch 9/10\n",
      "2751/2751 - 21s - loss: 0.2759 - binary_accuracy: 0.8849 - val_loss: 0.3839 - val_binary_accuracy: 0.8404 - 21s/epoch - 8ms/step\n",
      "Epoch 10/10\n",
      "2751/2751 - 21s - loss: 0.2424 - binary_accuracy: 0.9009 - val_loss: 0.4154 - val_binary_accuracy: 0.8385 - 21s/epoch - 8ms/step\n"
     ]
    },
    {
     "data": {
      "image/png": "[encoded data removed]",
      "text/plain": [
       "<Figure size 1000x600 with 1 Axes>"
      ]
     },
     "metadata": {},
     "output_type": "display_data"
    }
   ],
   "source": [
    "nothing, history = run_model(activation, .001)\n",
    "text = \"Learning Rate = .001\"\n",
    "plot_error(history.history[\"binary_accuracy\"], history.history[\"val_binary_accuracy\"], text)\n",
    "reset_keras()"
   ]
  },
  {
   "cell_type": "markdown",
   "id": "019965c3-57e3-426e-b9a0-b5c78e1f1e49",
   "metadata": {},
   "source": [
    "This is showing a fluctuating test error rate.  I'm going to try to tune down the learning rate to fix this jumping around.  This does indicate that the test data is probably as good as it gets for this model though.  I reran this model with learning rates of .0005, .00025, and .0001"
   ]
  },
  {
   "cell_type": "code",
   "execution_count": null,
   "id": "514d86dd-9f08-447c-beed-50d32a983b15",
   "metadata": {},
   "outputs": [],
   "source": [
    "lr = [.0005, .00025, .0001]\n",
    "for rate in lr:\n",
    "    text = \"Learning Rate \" + str(rate)\n",
    "    print(text)\n",
    "    _, history = run_model(activation, .0005)\n",
    "    plot_error(history.history[\"binary_accuracy\"], history.history[\"val_binary_accuracy\"], text)\n",
    "    reset_keras()\n",
    "    \n"
   ]
  },
  {
   "cell_type": "markdown",
   "id": "c29d5383-a58d-4e4a-9eae-7c8b0fbe778d",
   "metadata": {},
   "source": [
    "Based on these results, I thing the .0001 learning rate is the best option.  I will continue with this until I see a need for a higher rate."
   ]
  }
 ],
 "metadata": {
  "kernelspec": {
   "display_name": "Python 3 (ipykernel)",
   "language": "python",
   "name": "python3"
  },
  "language_info": {
   "codemirror_mode": {
    "name": "ipython",
    "version": 3
   },
   "file_extension": ".py",
   "mimetype": "text/x-python",
   "name": "python",
   "nbconvert_exporter": "python",
   "pygments_lexer": "ipython3",
   "version": "3.9.16"
  }
 },
 "nbformat": 4,
 "nbformat_minor": 5
}
